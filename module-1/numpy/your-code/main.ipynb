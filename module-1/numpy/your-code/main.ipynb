{
 "cells": [
  {
   "cell_type": "markdown",
   "metadata": {},
   "source": [
    "# Introduction to NumPy\n",
    "\n",
    "\n",
    "#### 1. Import NumPy under the name np."
   ]
  },
  {
   "cell_type": "code",
   "execution_count": 1,
   "metadata": {},
   "outputs": [],
   "source": [
    "# your code here\n",
    "import numpy as np"
   ]
  },
  {
   "cell_type": "markdown",
   "metadata": {},
   "source": [
    "#### 2. Print your NumPy version."
   ]
  },
  {
   "cell_type": "code",
   "execution_count": 2,
   "metadata": {},
   "outputs": [
    {
     "data": {
      "text/plain": [
       "'1.22.3'"
      ]
     },
     "execution_count": 2,
     "metadata": {},
     "output_type": "execute_result"
    }
   ],
   "source": [
    "# your code here\n",
    "np.__version__"
   ]
  },
  {
   "cell_type": "markdown",
   "metadata": {},
   "source": [
    "#### 3. Generate a 2x3x5 3-dimensional array with random values. Assign the array to variable *a*.\n",
    "**Challenge**: there are at least three easy ways that use numpy to generate random arrays. How many ways can you find?"
   ]
  },
  {
   "cell_type": "code",
   "execution_count": 6,
   "metadata": {},
   "outputs": [
    {
     "name": "stdout",
     "output_type": "stream",
     "text": [
      "[[[0.22865873 0.10702129 0.34968431 0.83318415 0.28342755]\n",
      "  [0.80579123 0.24538735 0.88831253 0.28451496 0.66955927]\n",
      "  [0.33770587 0.69591498 0.5189436  0.87101777 0.10528569]]\n",
      "\n",
      " [[0.32598817 0.48938605 0.21331469 0.93855228 0.601143  ]\n",
      "  [0.50193058 0.69051449 0.66646209 0.65313197 0.67775416]\n",
      "  [0.49626974 0.63427996 0.00608495 0.8004629  0.43246247]]]\n",
      "30\n",
      "(2, 3, 5)\n"
     ]
    }
   ],
   "source": [
    "# Method 1\n",
    "a = np.random.random((2,3,5))\n",
    "print(a)\n",
    "print(a.size)\n",
    "print(a.shape)"
   ]
  },
  {
   "cell_type": "code",
   "execution_count": 7,
   "metadata": {},
   "outputs": [
    {
     "name": "stdout",
     "output_type": "stream",
     "text": [
      "[[[8 4 3 7 4]\n",
      "  [9 1 0 4 2]\n",
      "  [6 0 3 6 3]]\n",
      "\n",
      " [[8 3 2 9 1]\n",
      "  [0 7 9 5 0]\n",
      "  [5 2 7 2 7]]]\n",
      "30\n",
      "(2, 3, 5)\n"
     ]
    }
   ],
   "source": [
    "# Method 2\n",
    "a = np.random.randint(10, size=(2,3,5))\n",
    "print(a)\n",
    "print(a.size)\n",
    "print(a.shape)"
   ]
  },
  {
   "cell_type": "code",
   "execution_count": 8,
   "metadata": {},
   "outputs": [
    {
     "name": "stdout",
     "output_type": "stream",
     "text": [
      "[[[0.13644908 0.14420468 0.80430654 0.96637261 0.80119501]\n",
      "  [0.29164928 0.29050935 0.09739668 0.59246162 0.38065302]\n",
      "  [0.03441497 0.40259412 0.76543733 0.66393443 0.42297218]]\n",
      "\n",
      " [[0.64370369 0.63508725 0.6462168  0.57496916 0.91056996]\n",
      "  [0.31959619 0.84985202 0.50976666 0.86825505 0.75473301]\n",
      "  [0.11043448 0.71772004 0.38850964 0.65202875 0.96128339]]]\n",
      "30\n",
      "(2, 3, 5)\n"
     ]
    }
   ],
   "source": [
    "# Method 3\n",
    "a = np.random.rand(2,3,5)\n",
    "print(a)\n",
    "print(a.size)\n",
    "print(a.shape)"
   ]
  },
  {
   "cell_type": "code",
   "execution_count": 9,
   "metadata": {},
   "outputs": [
    {
     "name": "stdout",
     "output_type": "stream",
     "text": [
      "[[[4 0 3 4 2]\n",
      "  [1 2 0 1 1]\n",
      "  [4 1 4 2 2]]\n",
      "\n",
      " [[3 4 1 0 0]\n",
      "  [2 4 0 3 4]\n",
      "  [3 3 2 4 2]]]\n",
      "30\n",
      "(2, 3, 5)\n"
     ]
    }
   ],
   "source": [
    "# Using for loop\n",
    "a_lst = [[[np.random.randint(5) for i in range(5)] for j in range(3)] for k in range(2)]\n",
    "a1 = np.array(a_lst)\n",
    "print(a1)\n",
    "print(a1.size)\n",
    "print(a1.shape)"
   ]
  },
  {
   "cell_type": "markdown",
   "metadata": {},
   "source": [
    "#### 4. Print *a*.\n"
   ]
  },
  {
   "cell_type": "code",
   "execution_count": 10,
   "metadata": {},
   "outputs": [
    {
     "name": "stdout",
     "output_type": "stream",
     "text": [
      "[[[0.13644908 0.14420468 0.80430654 0.96637261 0.80119501]\n",
      "  [0.29164928 0.29050935 0.09739668 0.59246162 0.38065302]\n",
      "  [0.03441497 0.40259412 0.76543733 0.66393443 0.42297218]]\n",
      "\n",
      " [[0.64370369 0.63508725 0.6462168  0.57496916 0.91056996]\n",
      "  [0.31959619 0.84985202 0.50976666 0.86825505 0.75473301]\n",
      "  [0.11043448 0.71772004 0.38850964 0.65202875 0.96128339]]]\n"
     ]
    }
   ],
   "source": [
    "# your code here\n",
    "print(a)"
   ]
  },
  {
   "cell_type": "markdown",
   "metadata": {},
   "source": [
    "#### 5. Create a 5x2x3 3-dimensional array with all values equaling 1. Assign the array to variable *b*."
   ]
  },
  {
   "cell_type": "code",
   "execution_count": 11,
   "metadata": {},
   "outputs": [],
   "source": [
    "# your code here\n",
    "b = np.ones((5,2,3))"
   ]
  },
  {
   "cell_type": "markdown",
   "metadata": {},
   "source": [
    "#### 6. Print *b*.\n"
   ]
  },
  {
   "cell_type": "code",
   "execution_count": 12,
   "metadata": {},
   "outputs": [
    {
     "name": "stdout",
     "output_type": "stream",
     "text": [
      "[[[1. 1. 1.]\n",
      "  [1. 1. 1.]]\n",
      "\n",
      " [[1. 1. 1.]\n",
      "  [1. 1. 1.]]\n",
      "\n",
      " [[1. 1. 1.]\n",
      "  [1. 1. 1.]]\n",
      "\n",
      " [[1. 1. 1.]\n",
      "  [1. 1. 1.]]\n",
      "\n",
      " [[1. 1. 1.]\n",
      "  [1. 1. 1.]]]\n"
     ]
    }
   ],
   "source": [
    "# your code here\n",
    "print(b)"
   ]
  },
  {
   "cell_type": "markdown",
   "metadata": {},
   "source": [
    "#### 7. Do *a* and *b* have the same size? How do you prove that in Python code?"
   ]
  },
  {
   "cell_type": "code",
   "execution_count": 13,
   "metadata": {},
   "outputs": [
    {
     "name": "stdout",
     "output_type": "stream",
     "text": [
      "size of a: 30 - size of b: 30\n",
      "shape of a: (2, 3, 5) - shape of b: (5, 2, 3)\n",
      "a and b have same size\n"
     ]
    }
   ],
   "source": [
    "# your code here\n",
    "print(f'size of a: {a.size} - size of b: {b.size}')\n",
    "print(f'shape of a: {a.shape} - shape of b: {b.shape}')\n",
    "\n",
    "if a.size == b.size:\n",
    "    print(\"a and b have same size\")\n",
    "else:\n",
    "    print(\"a and b haven't same size\")"
   ]
  },
  {
   "cell_type": "markdown",
   "metadata": {},
   "source": [
    "#### 8. Are you able to add *a* and *b*? Why or why not?\n"
   ]
  },
  {
   "cell_type": "code",
   "execution_count": 14,
   "metadata": {},
   "outputs": [
    {
     "name": "stdout",
     "output_type": "stream",
     "text": [
      "Because they aren't same shape\n"
     ]
    },
    {
     "ename": "ValueError",
     "evalue": "operands could not be broadcast together with shapes (2,3,5) (5,2,3) ",
     "output_type": "error",
     "traceback": [
      "\u001b[0;31m---------------------------------------------------------------------------\u001b[0m",
      "\u001b[0;31mValueError\u001b[0m                                Traceback (most recent call last)",
      "Input \u001b[0;32mIn [14]\u001b[0m, in \u001b[0;36m<cell line: 3>\u001b[0;34m()\u001b[0m\n\u001b[1;32m      1\u001b[0m \u001b[38;5;66;03m# your answer here\u001b[39;00m\n\u001b[1;32m      2\u001b[0m \u001b[38;5;28mprint\u001b[39m(\u001b[38;5;124m\"\u001b[39m\u001b[38;5;124mBecause they aren\u001b[39m\u001b[38;5;124m'\u001b[39m\u001b[38;5;124mt same shape\u001b[39m\u001b[38;5;124m\"\u001b[39m)\n\u001b[0;32m----> 3\u001b[0m \u001b[43mnp\u001b[49m\u001b[38;5;241;43m.\u001b[39;49m\u001b[43madd\u001b[49m\u001b[43m(\u001b[49m\u001b[43ma\u001b[49m\u001b[43m,\u001b[49m\u001b[43m \u001b[49m\u001b[43mb\u001b[49m\u001b[43m)\u001b[49m\n",
      "\u001b[0;31mValueError\u001b[0m: operands could not be broadcast together with shapes (2,3,5) (5,2,3) "
     ]
    }
   ],
   "source": [
    "# your answer here\n",
    "print(\"Because they aren't same shape\")\n",
    "np.add(a, b)"
   ]
  },
  {
   "cell_type": "markdown",
   "metadata": {},
   "source": [
    "#### 9. Transpose *b* so that it has the same structure of *a* (i.e. become a 2x3x5 array). Assign the transposed array to variable *c*."
   ]
  },
  {
   "cell_type": "code",
   "execution_count": 16,
   "metadata": {},
   "outputs": [
    {
     "name": "stdout",
     "output_type": "stream",
     "text": [
      "(2, 3, 5)\n",
      "[[[1. 1. 1. 1. 1.]\n",
      "  [1. 1. 1. 1. 1.]\n",
      "  [1. 1. 1. 1. 1.]]\n",
      "\n",
      " [[1. 1. 1. 1. 1.]\n",
      "  [1. 1. 1. 1. 1.]\n",
      "  [1. 1. 1. 1. 1.]]]\n"
     ]
    }
   ],
   "source": [
    "# your code here\n",
    "c = np.resize(b, (2, 3, 5))\n",
    "print(c.shape)\n",
    "print(c)"
   ]
  },
  {
   "cell_type": "markdown",
   "metadata": {},
   "source": [
    "#### 10. Try to add *a* and *c*. Now it should work. Assign the sum to variable *d*. But why does it work now?"
   ]
  },
  {
   "cell_type": "code",
   "execution_count": 18,
   "metadata": {},
   "outputs": [
    {
     "name": "stdout",
     "output_type": "stream",
     "text": [
      "Because they are same shape\n",
      "(2, 3, 5)\n",
      "[[[1.13644908 1.14420468 1.80430654 1.96637261 1.80119501]\n",
      "  [1.29164928 1.29050935 1.09739668 1.59246162 1.38065302]\n",
      "  [1.03441497 1.40259412 1.76543733 1.66393443 1.42297218]]\n",
      "\n",
      " [[1.64370369 1.63508725 1.6462168  1.57496916 1.91056996]\n",
      "  [1.31959619 1.84985202 1.50976666 1.86825505 1.75473301]\n",
      "  [1.11043448 1.71772004 1.38850964 1.65202875 1.96128339]]]\n"
     ]
    }
   ],
   "source": [
    "# your code/answer here\n",
    "print(\"Because they are same shape\")\n",
    "d = np.add(a, c)\n",
    "print(d.shape)\n",
    "print(d)"
   ]
  },
  {
   "cell_type": "markdown",
   "metadata": {},
   "source": [
    "#### 11. Print *a* and *d*. Notice the difference and relation of the two array in terms of the values? Explain."
   ]
  },
  {
   "cell_type": "code",
   "execution_count": 19,
   "metadata": {},
   "outputs": [
    {
     "name": "stdout",
     "output_type": "stream",
     "text": [
      "[[[0.13644908 0.14420468 0.80430654 0.96637261 0.80119501]\n",
      "  [0.29164928 0.29050935 0.09739668 0.59246162 0.38065302]\n",
      "  [0.03441497 0.40259412 0.76543733 0.66393443 0.42297218]]\n",
      "\n",
      " [[0.64370369 0.63508725 0.6462168  0.57496916 0.91056996]\n",
      "  [0.31959619 0.84985202 0.50976666 0.86825505 0.75473301]\n",
      "  [0.11043448 0.71772004 0.38850964 0.65202875 0.96128339]]]\n",
      "[[[1.13644908 1.14420468 1.80430654 1.96637261 1.80119501]\n",
      "  [1.29164928 1.29050935 1.09739668 1.59246162 1.38065302]\n",
      "  [1.03441497 1.40259412 1.76543733 1.66393443 1.42297218]]\n",
      "\n",
      " [[1.64370369 1.63508725 1.6462168  1.57496916 1.91056996]\n",
      "  [1.31959619 1.84985202 1.50976666 1.86825505 1.75473301]\n",
      "  [1.11043448 1.71772004 1.38850964 1.65202875 1.96128339]]]\n",
      "Values of array d are values of array a added to values of array c, wich is other shape of array b\n"
     ]
    }
   ],
   "source": [
    "# your code/answer here\n",
    "print(a)\n",
    "print(d)\n",
    "print('Values of array d are values of array a added to values of array c, wich is other shape of array b')"
   ]
  },
  {
   "cell_type": "markdown",
   "metadata": {},
   "source": [
    "#### 12. Multiply *a* and *c*. Assign the result to *e*."
   ]
  },
  {
   "cell_type": "code",
   "execution_count": 20,
   "metadata": {},
   "outputs": [
    {
     "name": "stdout",
     "output_type": "stream",
     "text": [
      "[[[0.13644908 0.14420468 0.80430654 0.96637261 0.80119501]\n",
      "  [0.29164928 0.29050935 0.09739668 0.59246162 0.38065302]\n",
      "  [0.03441497 0.40259412 0.76543733 0.66393443 0.42297218]]\n",
      "\n",
      " [[0.64370369 0.63508725 0.6462168  0.57496916 0.91056996]\n",
      "  [0.31959619 0.84985202 0.50976666 0.86825505 0.75473301]\n",
      "  [0.11043448 0.71772004 0.38850964 0.65202875 0.96128339]]]\n",
      "[[[1. 1. 1. 1. 1.]\n",
      "  [1. 1. 1. 1. 1.]\n",
      "  [1. 1. 1. 1. 1.]]\n",
      "\n",
      " [[1. 1. 1. 1. 1.]\n",
      "  [1. 1. 1. 1. 1.]\n",
      "  [1. 1. 1. 1. 1.]]]\n",
      "[[[0.13644908 0.14420468 0.80430654 0.96637261 0.80119501]\n",
      "  [0.29164928 0.29050935 0.09739668 0.59246162 0.38065302]\n",
      "  [0.03441497 0.40259412 0.76543733 0.66393443 0.42297218]]\n",
      "\n",
      " [[0.64370369 0.63508725 0.6462168  0.57496916 0.91056996]\n",
      "  [0.31959619 0.84985202 0.50976666 0.86825505 0.75473301]\n",
      "  [0.11043448 0.71772004 0.38850964 0.65202875 0.96128339]]]\n"
     ]
    }
   ],
   "source": [
    "# your code here\n",
    "e = np.multiply(a, c)\n",
    "print(a)\n",
    "print(c)\n",
    "print(e)"
   ]
  },
  {
   "cell_type": "markdown",
   "metadata": {},
   "source": [
    "#### 13. Does *e* equal to *a*? Why or why not?\n"
   ]
  },
  {
   "cell_type": "code",
   "execution_count": 21,
   "metadata": {},
   "outputs": [
    {
     "name": "stdout",
     "output_type": "stream",
     "text": [
      "a and e have same values because values of c are 1 and any number multiplied by 1 is that same number\n"
     ]
    }
   ],
   "source": [
    "# your code/answer here\n",
    "if (a == e).all():\n",
    "    print(\"a and e have same values because values of c are 1 and any number multiplied by 1 is that same number\")\n",
    "else:\n",
    "    print(\"a and e haven't same values\")"
   ]
  },
  {
   "cell_type": "markdown",
   "metadata": {},
   "source": [
    "#### 14. Identify the max, min, and mean values in *d*. Assign those values to variables *d_max*, *d_min* and *d_mean*."
   ]
  },
  {
   "cell_type": "code",
   "execution_count": 22,
   "metadata": {},
   "outputs": [
    {
     "name": "stdout",
     "output_type": "stream",
     "text": [
      "[[[1.13644908 1.14420468 1.80430654 1.96637261 1.80119501]\n",
      "  [1.29164928 1.29050935 1.09739668 1.59246162 1.38065302]\n",
      "  [1.03441497 1.40259412 1.76543733 1.66393443 1.42297218]]\n",
      "\n",
      " [[1.64370369 1.63508725 1.6462168  1.57496916 1.91056996]\n",
      "  [1.31959619 1.84985202 1.50976666 1.86825505 1.75473301]\n",
      "  [1.11043448 1.71772004 1.38850964 1.65202875 1.96128339]]]\n",
      "d_max is 1.9663726096389096\n",
      "d_min is 1.0344149731573737\n",
      "d_mean is 1.5445758996608367\n"
     ]
    }
   ],
   "source": [
    "# your code here\n",
    "print(d)\n",
    "d_max = np.amax(d)\n",
    "d_min = np.amin(d)\n",
    "d_mean = np.mean(d)\n",
    "print(f'd_max is {d_max}')\n",
    "print(f'd_min is {d_min}')\n",
    "print(f'd_mean is {d_mean}')"
   ]
  },
  {
   "cell_type": "markdown",
   "metadata": {},
   "source": [
    "#### 15. Now we want to label the values in *d*. First create an empty array *f* with the same shape (i.e. 2x3x5) as *d* using `np.empty`.\n"
   ]
  },
  {
   "cell_type": "code",
   "execution_count": 23,
   "metadata": {},
   "outputs": [
    {
     "name": "stdout",
     "output_type": "stream",
     "text": [
      "[[[1.13644908 1.14420468 1.80430654 1.96637261 1.80119501]\n",
      "  [1.29164928 1.29050935 1.09739668 1.59246162 1.38065302]\n",
      "  [1.03441497 1.40259412 1.76543733 1.66393443 1.42297218]]\n",
      "\n",
      " [[1.64370369 1.63508725 1.6462168  1.57496916 1.91056996]\n",
      "  [1.31959619 1.84985202 1.50976666 1.86825505 1.75473301]\n",
      "  [1.11043448 1.71772004 1.38850964 1.65202875 1.96128339]]]\n"
     ]
    }
   ],
   "source": [
    "# your code here\n",
    "f = np.empty((2, 3, 5))\n",
    "print(f)"
   ]
  },
  {
   "cell_type": "markdown",
   "metadata": {},
   "source": [
    "#### 16. Populate the values in *f*. \n",
    "\n",
    "For each value in *d*, if it's larger than *d_min* but smaller than *d_mean*, assign 25 to the corresponding value in *f*. If a value in *d* is larger than *d_mean* but smaller than *d_max*, assign 75 to the corresponding value in *f*. If a value equals to *d_mean*, assign 50 to the corresponding value in *f*. Assign 0 to the corresponding value(s) in *f* for *d_min* in *d*. Assign 100 to the corresponding value(s) in *f* for *d_max* in *d*. In the end, f should have only the following values: 0, 25, 50, 75, and 100.\n",
    "\n",
    "**Note**: you don't have to use Numpy in this question."
   ]
  },
  {
   "cell_type": "code",
   "execution_count": 24,
   "metadata": {},
   "outputs": [
    {
     "name": "stdout",
     "output_type": "stream",
     "text": [
      "[[[1.13644908 1.14420468 1.80430654 1.96637261 1.80119501]\n",
      "  [1.29164928 1.29050935 1.09739668 1.59246162 1.38065302]\n",
      "  [1.03441497 1.40259412 1.76543733 1.66393443 1.42297218]]\n",
      "\n",
      " [[1.64370369 1.63508725 1.6462168  1.57496916 1.91056996]\n",
      "  [1.31959619 1.84985202 1.50976666 1.86825505 1.75473301]\n",
      "  [1.11043448 1.71772004 1.38850964 1.65202875 1.96128339]]]\n",
      "[[[ 25.  25.  75. 100.  75.]\n",
      "  [ 25.  25.  25.  75.  25.]\n",
      "  [  0.  25.  75.  75.  25.]]\n",
      "\n",
      " [[ 75.  75.  75.  75.  75.]\n",
      "  [ 25.  75.  25.  75.  75.]\n",
      "  [ 25.  75.  25.  75.  75.]]]\n"
     ]
    }
   ],
   "source": [
    "# your code here\n",
    "print(d)\n",
    "for i in d:\n",
    "    for j in i:\n",
    "        for k in j:\n",
    "            if k > d_min and k < d_mean:\n",
    "                f[np.where(f == k)] = 25\n",
    "            elif k > d_mean and k < d_max:\n",
    "                f[np.where(f == k)] = 75\n",
    "            elif k == d_mean:\n",
    "                f[np.where(f == k)] = 50\n",
    "            elif k == d_min:\n",
    "                f[np.where(f == k)] = 0\n",
    "            elif k == d_max:\n",
    "                f[np.where(f == k)] = 100\n",
    "\n",
    "print(f)"
   ]
  },
  {
   "cell_type": "markdown",
   "metadata": {},
   "source": [
    "#### 17. Print *d* and *f*. Do you have your expected *f*?\n",
    "For instance, if your *d* is:\n",
    "```python\n",
    "[[[1.85836099, 1.67064465, 1.62576044, 1.40243961, 1.88454931],\n",
    "[1.75354326, 1.69403643, 1.36729252, 1.61415071, 1.12104981],\n",
    "[1.72201435, 1.1862918 , 1.87078449, 1.7726778 , 1.88180042]],\n",
    "[[1.44747908, 1.31673383, 1.02000951, 1.52218947, 1.97066381],\n",
    "[1.79129243, 1.74983003, 1.96028037, 1.85166831, 1.65450881],\n",
    "[1.18068344, 1.9587381 , 1.00656599, 1.93402165, 1.73514584]]]\n",
    "```\n",
    "Your *f* should be:\n",
    "```python\n",
    "[[[ 75.,  75.,  75.,  25.,  75.],\n",
    "[ 75.,  75.,  25.,  25.,  25.],\n",
    "[ 75.,  25.,  75.,  75.,  75.]],\n",
    "[[ 25.,  25.,  25.,  25., 100.],\n",
    "[ 75.,  75.,  75.,  75.,  75.],\n",
    "[ 25.,  75.,   0.,  75.,  75.]]]\n",
    "```"
   ]
  },
  {
   "cell_type": "code",
   "execution_count": 25,
   "metadata": {},
   "outputs": [
    {
     "name": "stdout",
     "output_type": "stream",
     "text": [
      "[[[1.13644908 1.14420468 1.80430654 1.96637261 1.80119501]\n",
      "  [1.29164928 1.29050935 1.09739668 1.59246162 1.38065302]\n",
      "  [1.03441497 1.40259412 1.76543733 1.66393443 1.42297218]]\n",
      "\n",
      " [[1.64370369 1.63508725 1.6462168  1.57496916 1.91056996]\n",
      "  [1.31959619 1.84985202 1.50976666 1.86825505 1.75473301]\n",
      "  [1.11043448 1.71772004 1.38850964 1.65202875 1.96128339]]]\n",
      "[[[ 25.  25.  75. 100.  75.]\n",
      "  [ 25.  25.  25.  75.  25.]\n",
      "  [  0.  25.  75.  75.  25.]]\n",
      "\n",
      " [[ 75.  75.  75.  75.  75.]\n",
      "  [ 25.  75.  25.  75.  75.]\n",
      "  [ 25.  75.  25.  75.  75.]]]\n"
     ]
    }
   ],
   "source": [
    "# your code here\n",
    "print(d)\n",
    "print(f)"
   ]
  },
  {
   "cell_type": "markdown",
   "metadata": {},
   "source": [
    "#### 18. Bonus question: instead of using numbers (i.e. 0, 25, 50, 75, and 100), use string values  (\"A\", \"B\", \"C\", \"D\", and \"E\") to label the array elements. For the example above, the expected result is:\n",
    "\n",
    "```python\n",
    "[[[ 'D',  'D',  'D',  'B',  'D'],\n",
    "[ 'D',  'D',  'B',  'B',  'B'],\n",
    "[ 'D',  'B',  'D',  'D',  'D']],\n",
    "[[ 'B',  'B',  'B',  'B',  'E'],\n",
    "[ 'D',  'D',  'D',  'D',  'D'],\n",
    "[ 'B',  'D',   'A',  'D', 'D']]]\n",
    "```\n",
    "**Note**: you don't have to use Numpy in this question."
   ]
  },
  {
   "cell_type": "code",
   "execution_count": 26,
   "metadata": {},
   "outputs": [
    {
     "name": "stdout",
     "output_type": "stream",
     "text": [
      "[[[1.13644908 1.14420468 1.80430654 1.96637261 1.80119501]\n",
      "  [1.29164928 1.29050935 1.09739668 1.59246162 1.38065302]\n",
      "  [1.03441497 1.40259412 1.76543733 1.66393443 1.42297218]]\n",
      "\n",
      " [[1.64370369 1.63508725 1.6462168  1.57496916 1.91056996]\n",
      "  [1.31959619 1.84985202 1.50976666 1.86825505 1.75473301]\n",
      "  [1.11043448 1.71772004 1.38850964 1.65202875 1.96128339]]]\n",
      "[[['B' 'B' 'D' 'E' 'D']\n",
      "  ['B' 'B' 'B' 'D' 'B']\n",
      "  ['A' 'B' 'D' 'D' 'B']]\n",
      "\n",
      " [['D' 'D' 'D' 'D' 'D']\n",
      "  ['B' 'D' 'B' 'D' 'D']\n",
      "  ['B' 'D' 'B' 'D' 'D']]]\n"
     ]
    }
   ],
   "source": [
    "# your code here\n",
    "print(d)\n",
    "g = np.empty(d.shape, dtype='str')\n",
    "for i in range(len(d)):\n",
    "    for j in range(len(d[i])):\n",
    "        for k in range(len(d[i, j])):\n",
    "            if d[i, j ,k] > d_min and d[i, j ,k] < d_mean:\n",
    "                g[i, j ,k] = 'B'\n",
    "            elif d[i, j ,k] > d_mean and d[i, j ,k] < d_max:\n",
    "                g[i, j ,k] = 'D'\n",
    "            elif d[i, j ,k] == d_mean:\n",
    "                g[i, j ,k] = 'C'\n",
    "            elif d[i, j ,k] == d_min:\n",
    "                g[i, j ,k] = 'A'\n",
    "            elif d[i, j ,k] == d_max:\n",
    "                g[i, j ,k] = 'E'\n",
    "\n",
    "print(g)"
   ]
  }
 ],
 "metadata": {
  "kernelspec": {
   "display_name": "Python [conda env:m1_ih]",
   "language": "python",
   "name": "conda-env-m1_ih-py"
  },
  "language_info": {
   "codemirror_mode": {
    "name": "ipython",
    "version": 3
   },
   "file_extension": ".py",
   "mimetype": "text/x-python",
   "name": "python",
   "nbconvert_exporter": "python",
   "pygments_lexer": "ipython3",
   "version": "3.9.12"
  }
 },
 "nbformat": 4,
 "nbformat_minor": 2
}
