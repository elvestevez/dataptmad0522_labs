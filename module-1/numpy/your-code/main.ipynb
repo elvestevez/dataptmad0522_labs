{
 "cells": [
  {
   "cell_type": "markdown",
   "metadata": {},
   "source": [
    "# Introduction to NumPy\n",
    "\n",
    "\n",
    "#### 1. Import NumPy under the name np."
   ]
  },
  {
   "cell_type": "code",
   "execution_count": 1,
   "metadata": {},
   "outputs": [],
   "source": [
    "# your code here\n",
    "import numpy as np"
   ]
  },
  {
   "cell_type": "markdown",
   "metadata": {},
   "source": [
    "#### 2. Print your NumPy version."
   ]
  },
  {
   "cell_type": "code",
   "execution_count": 2,
   "metadata": {},
   "outputs": [
    {
     "data": {
      "text/plain": [
       "'1.22.3'"
      ]
     },
     "execution_count": 2,
     "metadata": {},
     "output_type": "execute_result"
    }
   ],
   "source": [
    "# your code here\n",
    "np.__version__"
   ]
  },
  {
   "cell_type": "markdown",
   "metadata": {},
   "source": [
    "#### 3. Generate a 2x3x5 3-dimensional array with random values. Assign the array to variable *a*.\n",
    "**Challenge**: there are at least three easy ways that use numpy to generate random arrays. How many ways can you find?"
   ]
  },
  {
   "cell_type": "code",
   "execution_count": 3,
   "metadata": {},
   "outputs": [
    {
     "name": "stdout",
     "output_type": "stream",
     "text": [
      "[[[0.45421954 0.27886338 0.88809684 0.5504469  0.13802614]\n",
      "  [0.37990724 0.96176033 0.86431926 0.32673735 0.08661941]\n",
      "  [0.42155262 0.88899126 0.95043233 0.32654696 0.15094046]]\n",
      "\n",
      " [[0.7503713  0.30473863 0.51228018 0.20345516 0.66884485]\n",
      "  [0.70323974 0.79239714 0.02405962 0.326522   0.1805469 ]\n",
      "  [0.21047044 0.3582527  0.72351278 0.69092591 0.5897314 ]]]\n",
      "30\n",
      "(2, 3, 5)\n"
     ]
    }
   ],
   "source": [
    "# Method 1\n",
    "a = np.random.random((2,3,5))\n",
    "print(a)\n",
    "print(a.size)\n",
    "print(a.shape)"
   ]
  },
  {
   "cell_type": "code",
   "execution_count": 4,
   "metadata": {},
   "outputs": [
    {
     "name": "stdout",
     "output_type": "stream",
     "text": [
      "[[[8 3 0 5 8]\n",
      "  [2 6 9 2 4]\n",
      "  [8 2 6 6 5]]\n",
      "\n",
      " [[1 0 8 1 4]\n",
      "  [0 3 3 6 0]\n",
      "  [8 4 7 7 8]]]\n",
      "30\n",
      "(2, 3, 5)\n"
     ]
    }
   ],
   "source": [
    "# Method 2\n",
    "a = np.random.randint(10, size=(2,3,5))\n",
    "print(a)\n",
    "print(a.size)\n",
    "print(a.shape)"
   ]
  },
  {
   "cell_type": "code",
   "execution_count": 5,
   "metadata": {},
   "outputs": [
    {
     "name": "stdout",
     "output_type": "stream",
     "text": [
      "[[[0.80304144 0.19736618 0.58434327 0.88233822 0.39680338]\n",
      "  [0.02005647 0.00755521 0.23976978 0.68808906 0.31380606]\n",
      "  [0.63745882 0.81313534 0.55701246 0.78455427 0.37015745]]\n",
      "\n",
      " [[0.88275947 0.36115286 0.12405818 0.24591161 0.08074528]\n",
      "  [0.35629254 0.73121976 0.62031079 0.3331274  0.67006648]\n",
      "  [0.76614925 0.49154618 0.7032317  0.16824267 0.2857129 ]]]\n",
      "30\n",
      "(2, 3, 5)\n"
     ]
    }
   ],
   "source": [
    "# Method 3\n",
    "a = np.random.rand(2,3,5)\n",
    "print(a)\n",
    "print(a.size)\n",
    "print(a.shape)"
   ]
  },
  {
   "cell_type": "code",
   "execution_count": 6,
   "metadata": {},
   "outputs": [
    {
     "name": "stdout",
     "output_type": "stream",
     "text": [
      "[[[2 0 1 0 3]\n",
      "  [4 1 1 0 4]\n",
      "  [1 2 2 0 0]]\n",
      "\n",
      " [[3 0 3 3 3]\n",
      "  [3 4 2 0 3]\n",
      "  [1 0 1 2 4]]]\n",
      "30\n",
      "(2, 3, 5)\n"
     ]
    }
   ],
   "source": [
    "# Using for loop\n",
    "a_lst = [[[np.random.randint(5) for i in range(5)] for j in range(3)] for k in range(2)]\n",
    "a1 = np.array(a_lst)\n",
    "print(a1)\n",
    "print(a1.size)\n",
    "print(a1.shape)"
   ]
  },
  {
   "cell_type": "markdown",
   "metadata": {},
   "source": [
    "#### 4. Print *a*.\n"
   ]
  },
  {
   "cell_type": "code",
   "execution_count": 7,
   "metadata": {},
   "outputs": [
    {
     "name": "stdout",
     "output_type": "stream",
     "text": [
      "[[[0.80304144 0.19736618 0.58434327 0.88233822 0.39680338]\n",
      "  [0.02005647 0.00755521 0.23976978 0.68808906 0.31380606]\n",
      "  [0.63745882 0.81313534 0.55701246 0.78455427 0.37015745]]\n",
      "\n",
      " [[0.88275947 0.36115286 0.12405818 0.24591161 0.08074528]\n",
      "  [0.35629254 0.73121976 0.62031079 0.3331274  0.67006648]\n",
      "  [0.76614925 0.49154618 0.7032317  0.16824267 0.2857129 ]]]\n"
     ]
    }
   ],
   "source": [
    "# your code here\n",
    "print(a)"
   ]
  },
  {
   "cell_type": "markdown",
   "metadata": {},
   "source": [
    "#### 5. Create a 5x2x3 3-dimensional array with all values equaling 1. Assign the array to variable *b*."
   ]
  },
  {
   "cell_type": "code",
   "execution_count": 8,
   "metadata": {},
   "outputs": [],
   "source": [
    "# your code here\n",
    "b = np.ones((5,2,3))"
   ]
  },
  {
   "cell_type": "markdown",
   "metadata": {},
   "source": [
    "#### 6. Print *b*.\n"
   ]
  },
  {
   "cell_type": "code",
   "execution_count": 9,
   "metadata": {},
   "outputs": [
    {
     "name": "stdout",
     "output_type": "stream",
     "text": [
      "[[[1. 1. 1.]\n",
      "  [1. 1. 1.]]\n",
      "\n",
      " [[1. 1. 1.]\n",
      "  [1. 1. 1.]]\n",
      "\n",
      " [[1. 1. 1.]\n",
      "  [1. 1. 1.]]\n",
      "\n",
      " [[1. 1. 1.]\n",
      "  [1. 1. 1.]]\n",
      "\n",
      " [[1. 1. 1.]\n",
      "  [1. 1. 1.]]]\n"
     ]
    }
   ],
   "source": [
    "# your code here\n",
    "print(b)"
   ]
  },
  {
   "cell_type": "markdown",
   "metadata": {},
   "source": [
    "#### 7. Do *a* and *b* have the same size? How do you prove that in Python code?"
   ]
  },
  {
   "cell_type": "code",
   "execution_count": 10,
   "metadata": {},
   "outputs": [
    {
     "name": "stdout",
     "output_type": "stream",
     "text": [
      "size of a: 30 - size of b: 30\n",
      "shape of a: (2, 3, 5) - shape of b: (5, 2, 3)\n",
      "a and b have same size\n"
     ]
    }
   ],
   "source": [
    "# your code here\n",
    "print(f'size of a: {a.size} - size of b: {b.size}')\n",
    "print(f'shape of a: {a.shape} - shape of b: {b.shape}')\n",
    "\n",
    "if a.size == b.size:\n",
    "    print(\"a and b have same size\")\n",
    "else:\n",
    "    print(\"a and b haven't same size\")"
   ]
  },
  {
   "cell_type": "markdown",
   "metadata": {},
   "source": [
    "#### 8. Are you able to add *a* and *b*? Why or why not?\n"
   ]
  },
  {
   "cell_type": "code",
   "execution_count": 11,
   "metadata": {},
   "outputs": [
    {
     "name": "stdout",
     "output_type": "stream",
     "text": [
      "Because they aren't same shape\n"
     ]
    },
    {
     "ename": "ValueError",
     "evalue": "operands could not be broadcast together with shapes (2,3,5) (5,2,3) ",
     "output_type": "error",
     "traceback": [
      "\u001b[0;31m---------------------------------------------------------------------------\u001b[0m",
      "\u001b[0;31mValueError\u001b[0m                                Traceback (most recent call last)",
      "Input \u001b[0;32mIn [11]\u001b[0m, in \u001b[0;36m<cell line: 3>\u001b[0;34m()\u001b[0m\n\u001b[1;32m      1\u001b[0m \u001b[38;5;66;03m# your answer here\u001b[39;00m\n\u001b[1;32m      2\u001b[0m \u001b[38;5;28mprint\u001b[39m(\u001b[38;5;124m\"\u001b[39m\u001b[38;5;124mBecause they aren\u001b[39m\u001b[38;5;124m'\u001b[39m\u001b[38;5;124mt same shape\u001b[39m\u001b[38;5;124m\"\u001b[39m)\n\u001b[0;32m----> 3\u001b[0m \u001b[43mnp\u001b[49m\u001b[38;5;241;43m.\u001b[39;49m\u001b[43madd\u001b[49m\u001b[43m(\u001b[49m\u001b[43ma\u001b[49m\u001b[43m,\u001b[49m\u001b[43m \u001b[49m\u001b[43mb\u001b[49m\u001b[43m)\u001b[49m\n",
      "\u001b[0;31mValueError\u001b[0m: operands could not be broadcast together with shapes (2,3,5) (5,2,3) "
     ]
    }
   ],
   "source": [
    "# your answer here\n",
    "print(\"Because they aren't same shape\")\n",
    "np.add(a, b)"
   ]
  },
  {
   "cell_type": "markdown",
   "metadata": {},
   "source": [
    "#### 9. Transpose *b* so that it has the same structure of *a* (i.e. become a 2x3x5 array). Assign the transposed array to variable *c*."
   ]
  },
  {
   "cell_type": "code",
   "execution_count": 18,
   "metadata": {},
   "outputs": [
    {
     "name": "stdout",
     "output_type": "stream",
     "text": [
      "(2, 3, 5)\n",
      "[[[1. 1. 1. 1. 1.]\n",
      "  [1. 1. 1. 1. 1.]\n",
      "  [1. 1. 1. 1. 1.]]\n",
      "\n",
      " [[1. 1. 1. 1. 1.]\n",
      "  [1. 1. 1. 1. 1.]\n",
      "  [1. 1. 1. 1. 1.]]]\n"
     ]
    }
   ],
   "source": [
    "# your code here\n",
    "c = np.transpose(b, (1, 2, 0))\n",
    "#c = np.resize(b, (2, 3, 5))\n",
    "print(c.shape)\n",
    "print(c)"
   ]
  },
  {
   "cell_type": "markdown",
   "metadata": {},
   "source": [
    "#### 10. Try to add *a* and *c*. Now it should work. Assign the sum to variable *d*. But why does it work now?"
   ]
  },
  {
   "cell_type": "code",
   "execution_count": 19,
   "metadata": {},
   "outputs": [
    {
     "name": "stdout",
     "output_type": "stream",
     "text": [
      "Because they are same shape\n",
      "(2, 3, 5)\n",
      "[[[1.80304144 1.19736618 1.58434327 1.88233822 1.39680338]\n",
      "  [1.02005647 1.00755521 1.23976978 1.68808906 1.31380606]\n",
      "  [1.63745882 1.81313534 1.55701246 1.78455427 1.37015745]]\n",
      "\n",
      " [[1.88275947 1.36115286 1.12405818 1.24591161 1.08074528]\n",
      "  [1.35629254 1.73121976 1.62031079 1.3331274  1.67006648]\n",
      "  [1.76614925 1.49154618 1.7032317  1.16824267 1.2857129 ]]]\n"
     ]
    }
   ],
   "source": [
    "# your code/answer here\n",
    "print(\"Because they are same shape\")\n",
    "d = np.add(a, c)\n",
    "print(d.shape)\n",
    "print(d)"
   ]
  },
  {
   "cell_type": "markdown",
   "metadata": {},
   "source": [
    "#### 11. Print *a* and *d*. Notice the difference and relation of the two array in terms of the values? Explain."
   ]
  },
  {
   "cell_type": "code",
   "execution_count": 20,
   "metadata": {},
   "outputs": [
    {
     "name": "stdout",
     "output_type": "stream",
     "text": [
      "[[[0.80304144 0.19736618 0.58434327 0.88233822 0.39680338]\n",
      "  [0.02005647 0.00755521 0.23976978 0.68808906 0.31380606]\n",
      "  [0.63745882 0.81313534 0.55701246 0.78455427 0.37015745]]\n",
      "\n",
      " [[0.88275947 0.36115286 0.12405818 0.24591161 0.08074528]\n",
      "  [0.35629254 0.73121976 0.62031079 0.3331274  0.67006648]\n",
      "  [0.76614925 0.49154618 0.7032317  0.16824267 0.2857129 ]]]\n",
      "[[[1.80304144 1.19736618 1.58434327 1.88233822 1.39680338]\n",
      "  [1.02005647 1.00755521 1.23976978 1.68808906 1.31380606]\n",
      "  [1.63745882 1.81313534 1.55701246 1.78455427 1.37015745]]\n",
      "\n",
      " [[1.88275947 1.36115286 1.12405818 1.24591161 1.08074528]\n",
      "  [1.35629254 1.73121976 1.62031079 1.3331274  1.67006648]\n",
      "  [1.76614925 1.49154618 1.7032317  1.16824267 1.2857129 ]]]\n",
      "Values of array d are values of array a added to values of array c (always value 1), wich is other shape of array b\n"
     ]
    }
   ],
   "source": [
    "# your code/answer here\n",
    "print(a)\n",
    "print(d)\n",
    "print('Values of array d are values of array a added to values of array c (always value 1), wich is other shape of array b')"
   ]
  },
  {
   "cell_type": "markdown",
   "metadata": {},
   "source": [
    "#### 12. Multiply *a* and *c*. Assign the result to *e*."
   ]
  },
  {
   "cell_type": "code",
   "execution_count": 21,
   "metadata": {},
   "outputs": [
    {
     "name": "stdout",
     "output_type": "stream",
     "text": [
      "[[[0.80304144 0.19736618 0.58434327 0.88233822 0.39680338]\n",
      "  [0.02005647 0.00755521 0.23976978 0.68808906 0.31380606]\n",
      "  [0.63745882 0.81313534 0.55701246 0.78455427 0.37015745]]\n",
      "\n",
      " [[0.88275947 0.36115286 0.12405818 0.24591161 0.08074528]\n",
      "  [0.35629254 0.73121976 0.62031079 0.3331274  0.67006648]\n",
      "  [0.76614925 0.49154618 0.7032317  0.16824267 0.2857129 ]]]\n",
      "[[[1. 1. 1. 1. 1.]\n",
      "  [1. 1. 1. 1. 1.]\n",
      "  [1. 1. 1. 1. 1.]]\n",
      "\n",
      " [[1. 1. 1. 1. 1.]\n",
      "  [1. 1. 1. 1. 1.]\n",
      "  [1. 1. 1. 1. 1.]]]\n",
      "[[[0.80304144 0.19736618 0.58434327 0.88233822 0.39680338]\n",
      "  [0.02005647 0.00755521 0.23976978 0.68808906 0.31380606]\n",
      "  [0.63745882 0.81313534 0.55701246 0.78455427 0.37015745]]\n",
      "\n",
      " [[0.88275947 0.36115286 0.12405818 0.24591161 0.08074528]\n",
      "  [0.35629254 0.73121976 0.62031079 0.3331274  0.67006648]\n",
      "  [0.76614925 0.49154618 0.7032317  0.16824267 0.2857129 ]]]\n"
     ]
    }
   ],
   "source": [
    "# your code here\n",
    "e = np.multiply(a, c)\n",
    "print(a)\n",
    "print(c)\n",
    "print(e)"
   ]
  },
  {
   "cell_type": "markdown",
   "metadata": {},
   "source": [
    "#### 13. Does *e* equal to *a*? Why or why not?\n"
   ]
  },
  {
   "cell_type": "code",
   "execution_count": 22,
   "metadata": {},
   "outputs": [
    {
     "name": "stdout",
     "output_type": "stream",
     "text": [
      "a and e have same values because values of c are 1 and any number multiplied by 1 is that same number\n"
     ]
    }
   ],
   "source": [
    "# your code/answer here\n",
    "if (a == e).all():\n",
    "    print(\"a and e have same values because values of c are 1 and any number multiplied by 1 is that same number\")\n",
    "else:\n",
    "    print(\"a and e haven't same values\")"
   ]
  },
  {
   "cell_type": "markdown",
   "metadata": {},
   "source": [
    "#### 14. Identify the max, min, and mean values in *d*. Assign those values to variables *d_max*, *d_min* and *d_mean*."
   ]
  },
  {
   "cell_type": "code",
   "execution_count": 23,
   "metadata": {},
   "outputs": [
    {
     "name": "stdout",
     "output_type": "stream",
     "text": [
      "[[[1.80304144 1.19736618 1.58434327 1.88233822 1.39680338]\n",
      "  [1.02005647 1.00755521 1.23976978 1.68808906 1.31380606]\n",
      "  [1.63745882 1.81313534 1.55701246 1.78455427 1.37015745]]\n",
      "\n",
      " [[1.88275947 1.36115286 1.12405818 1.24591161 1.08074528]\n",
      "  [1.35629254 1.73121976 1.62031079 1.3331274  1.67006648]\n",
      "  [1.76614925 1.49154618 1.7032317  1.16824267 1.2857129 ]]]\n",
      "d_max is 1.8827594741461784\n",
      "d_min is 1.007555209662173\n",
      "d_mean is 1.470533817136056\n"
     ]
    }
   ],
   "source": [
    "# your code here\n",
    "print(d)\n",
    "d_max = np.amax(d)\n",
    "d_min = np.amin(d)\n",
    "d_mean = np.mean(d)\n",
    "print(f'd_max is {d_max}')\n",
    "print(f'd_min is {d_min}')\n",
    "print(f'd_mean is {d_mean}')"
   ]
  },
  {
   "cell_type": "markdown",
   "metadata": {},
   "source": [
    "#### 15. Now we want to label the values in *d*. First create an empty array *f* with the same shape (i.e. 2x3x5) as *d* using `np.empty`.\n"
   ]
  },
  {
   "cell_type": "code",
   "execution_count": 24,
   "metadata": {},
   "outputs": [
    {
     "name": "stdout",
     "output_type": "stream",
     "text": [
      "[[[1.80304144 1.19736618 1.58434327 1.88233822 1.39680338]\n",
      "  [1.02005647 1.00755521 1.23976978 1.68808906 1.31380606]\n",
      "  [1.63745882 1.81313534 1.55701246 1.78455427 1.37015745]]\n",
      "\n",
      " [[1.88275947 1.36115286 1.12405818 1.24591161 1.08074528]\n",
      "  [1.35629254 1.73121976 1.62031079 1.3331274  1.67006648]\n",
      "  [1.76614925 1.49154618 1.7032317  1.16824267 1.2857129 ]]]\n"
     ]
    }
   ],
   "source": [
    "# your code here\n",
    "f = np.empty((2, 3, 5))\n",
    "print(f)"
   ]
  },
  {
   "cell_type": "markdown",
   "metadata": {},
   "source": [
    "#### 16. Populate the values in *f*. \n",
    "\n",
    "For each value in *d*, if it's larger than *d_min* but smaller than *d_mean*, assign 25 to the corresponding value in *f*. If a value in *d* is larger than *d_mean* but smaller than *d_max*, assign 75 to the corresponding value in *f*. If a value equals to *d_mean*, assign 50 to the corresponding value in *f*. Assign 0 to the corresponding value(s) in *f* for *d_min* in *d*. Assign 100 to the corresponding value(s) in *f* for *d_max* in *d*. In the end, f should have only the following values: 0, 25, 50, 75, and 100.\n",
    "\n",
    "**Note**: you don't have to use Numpy in this question."
   ]
  },
  {
   "cell_type": "code",
   "execution_count": 25,
   "metadata": {},
   "outputs": [],
   "source": [
    "# your code here\n",
    "for i in d:\n",
    "    for j in i:\n",
    "        for k in j:\n",
    "            if k > d_min and k < d_mean:\n",
    "                f[np.where(f == k)] = 25\n",
    "            elif k > d_mean and k < d_max:\n",
    "                f[np.where(f == k)] = 75\n",
    "            elif k == d_mean:\n",
    "                f[np.where(f == k)] = 50\n",
    "            elif k == d_min:\n",
    "                f[np.where(f == k)] = 0\n",
    "            elif k == d_max:\n",
    "                f[np.where(f == k)] = 100"
   ]
  },
  {
   "cell_type": "markdown",
   "metadata": {},
   "source": [
    "#### 17. Print *d* and *f*. Do you have your expected *f*?\n",
    "For instance, if your *d* is:\n",
    "```python\n",
    "[[[1.85836099, 1.67064465, 1.62576044, 1.40243961, 1.88454931],\n",
    "[1.75354326, 1.69403643, 1.36729252, 1.61415071, 1.12104981],\n",
    "[1.72201435, 1.1862918 , 1.87078449, 1.7726778 , 1.88180042]],\n",
    "[[1.44747908, 1.31673383, 1.02000951, 1.52218947, 1.97066381],\n",
    "[1.79129243, 1.74983003, 1.96028037, 1.85166831, 1.65450881],\n",
    "[1.18068344, 1.9587381 , 1.00656599, 1.93402165, 1.73514584]]]\n",
    "```\n",
    "Your *f* should be:\n",
    "```python\n",
    "[[[ 75.,  75.,  75.,  25.,  75.],\n",
    "[ 75.,  75.,  25.,  25.,  25.],\n",
    "[ 75.,  25.,  75.,  75.,  75.]],\n",
    "[[ 25.,  25.,  25.,  25., 100.],\n",
    "[ 75.,  75.,  75.,  75.,  75.],\n",
    "[ 25.,  75.,   0.,  75.,  75.]]]\n",
    "```"
   ]
  },
  {
   "cell_type": "code",
   "execution_count": 26,
   "metadata": {},
   "outputs": [
    {
     "name": "stdout",
     "output_type": "stream",
     "text": [
      "[[[1.80304144 1.19736618 1.58434327 1.88233822 1.39680338]\n",
      "  [1.02005647 1.00755521 1.23976978 1.68808906 1.31380606]\n",
      "  [1.63745882 1.81313534 1.55701246 1.78455427 1.37015745]]\n",
      "\n",
      " [[1.88275947 1.36115286 1.12405818 1.24591161 1.08074528]\n",
      "  [1.35629254 1.73121976 1.62031079 1.3331274  1.67006648]\n",
      "  [1.76614925 1.49154618 1.7032317  1.16824267 1.2857129 ]]]\n",
      "[[[ 75.  25.  75.  75.  25.]\n",
      "  [ 25.   0.  25.  75.  25.]\n",
      "  [ 75.  75.  75.  75.  25.]]\n",
      "\n",
      " [[100.  25.  25.  25.  25.]\n",
      "  [ 25.  75.  75.  25.  75.]\n",
      "  [ 75.  75.  75.  25.  25.]]]\n"
     ]
    }
   ],
   "source": [
    "# your code here\n",
    "print(d)\n",
    "print(f)"
   ]
  },
  {
   "cell_type": "markdown",
   "metadata": {},
   "source": [
    "#### 18. Bonus question: instead of using numbers (i.e. 0, 25, 50, 75, and 100), use string values  (\"A\", \"B\", \"C\", \"D\", and \"E\") to label the array elements. For the example above, the expected result is:\n",
    "\n",
    "```python\n",
    "[[[ 'D',  'D',  'D',  'B',  'D'],\n",
    "[ 'D',  'D',  'B',  'B',  'B'],\n",
    "[ 'D',  'B',  'D',  'D',  'D']],\n",
    "[[ 'B',  'B',  'B',  'B',  'E'],\n",
    "[ 'D',  'D',  'D',  'D',  'D'],\n",
    "[ 'B',  'D',   'A',  'D', 'D']]]\n",
    "```\n",
    "**Note**: you don't have to use Numpy in this question."
   ]
  },
  {
   "cell_type": "code",
   "execution_count": 27,
   "metadata": {},
   "outputs": [
    {
     "name": "stdout",
     "output_type": "stream",
     "text": [
      "[[[1.80304144 1.19736618 1.58434327 1.88233822 1.39680338]\n",
      "  [1.02005647 1.00755521 1.23976978 1.68808906 1.31380606]\n",
      "  [1.63745882 1.81313534 1.55701246 1.78455427 1.37015745]]\n",
      "\n",
      " [[1.88275947 1.36115286 1.12405818 1.24591161 1.08074528]\n",
      "  [1.35629254 1.73121976 1.62031079 1.3331274  1.67006648]\n",
      "  [1.76614925 1.49154618 1.7032317  1.16824267 1.2857129 ]]]\n",
      "[[['D' 'B' 'D' 'D' 'B']\n",
      "  ['B' 'A' 'B' 'D' 'B']\n",
      "  ['D' 'D' 'D' 'D' 'B']]\n",
      "\n",
      " [['E' 'B' 'B' 'B' 'B']\n",
      "  ['B' 'D' 'D' 'B' 'D']\n",
      "  ['D' 'D' 'D' 'B' 'B']]]\n"
     ]
    }
   ],
   "source": [
    "# your code here\n",
    "print(d)\n",
    "g = np.empty(d.shape, dtype='str')\n",
    "for i in range(len(d)):\n",
    "    for j in range(len(d[i])):\n",
    "        for k in range(len(d[i, j])):\n",
    "            if d[i, j ,k] > d_min and d[i, j ,k] < d_mean:\n",
    "                g[i, j ,k] = 'B'\n",
    "            elif d[i, j ,k] > d_mean and d[i, j ,k] < d_max:\n",
    "                g[i, j ,k] = 'D'\n",
    "            elif d[i, j ,k] == d_mean:\n",
    "                g[i, j ,k] = 'C'\n",
    "            elif d[i, j ,k] == d_min:\n",
    "                g[i, j ,k] = 'A'\n",
    "            elif d[i, j ,k] == d_max:\n",
    "                g[i, j ,k] = 'E'\n",
    "\n",
    "print(g)"
   ]
  }
 ],
 "metadata": {
  "kernelspec": {
   "display_name": "Python [conda env:m1_ih]",
   "language": "python",
   "name": "conda-env-m1_ih-py"
  },
  "language_info": {
   "codemirror_mode": {
    "name": "ipython",
    "version": 3
   },
   "file_extension": ".py",
   "mimetype": "text/x-python",
   "name": "python",
   "nbconvert_exporter": "python",
   "pygments_lexer": "ipython3",
   "version": "3.9.12"
  }
 },
 "nbformat": 4,
 "nbformat_minor": 2
}
